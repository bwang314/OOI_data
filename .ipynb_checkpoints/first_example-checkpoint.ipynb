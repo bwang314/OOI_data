{
 "cells": [
  {
   "cell_type": "code",
   "execution_count": 1,
   "metadata": {},
   "outputs": [
    {
     "name": "stdout",
     "output_type": "stream",
     "text": [
      "Requirement already satisfied: yodapy in /srv/conda/envs/notebook/lib/python3.6/site-packages (0.2.4b0)\n",
      "Requirement already satisfied: lxml in /srv/conda/envs/notebook/lib/python3.6/site-packages (from yodapy) (4.3.3)\n",
      "Requirement already satisfied: dask in /srv/conda/envs/notebook/lib/python3.6/site-packages (from yodapy) (1.1.1)\n",
      "Requirement already satisfied: gspread in /srv/conda/envs/notebook/lib/python3.6/site-packages (from yodapy) (3.1.0)\n",
      "Requirement already satisfied: grequests in /srv/conda/envs/notebook/lib/python3.6/site-packages (from yodapy) (0.3.0)\n",
      "Requirement already satisfied: progressbar2 in /srv/conda/envs/notebook/lib/python3.6/site-packages (from yodapy) (3.41.0)\n",
      "Requirement already satisfied: seaborn in /srv/conda/envs/notebook/lib/python3.6/site-packages (from yodapy) (0.9.0)\n",
      "Requirement already satisfied: netcdf4==1.4.1 in /srv/conda/envs/notebook/lib/python3.6/site-packages (from yodapy) (1.4.1)\n",
      "Requirement already satisfied: gevent in /srv/conda/envs/notebook/lib/python3.6/site-packages (from yodapy) (1.4.0)\n",
      "Requirement already satisfied: pandas in /srv/conda/envs/notebook/lib/python3.6/site-packages (from yodapy) (0.24.2)\n",
      "Requirement already satisfied: matplotlib in /srv/conda/envs/notebook/lib/python3.6/site-packages (from yodapy) (3.0.3)\n",
      "Requirement already satisfied: oauth2client in /srv/conda/envs/notebook/lib/python3.6/site-packages (from yodapy) (4.1.3)\n",
      "Requirement already satisfied: requests in /srv/conda/envs/notebook/lib/python3.6/site-packages (from yodapy) (2.21.0)\n",
      "Requirement already satisfied: siphon in /srv/conda/envs/notebook/lib/python3.6/site-packages (from yodapy) (0.8.0)\n",
      "Requirement already satisfied: xarray in /srv/conda/envs/notebook/lib/python3.6/site-packages (from yodapy) (0.12.1)\n",
      "Requirement already satisfied: python-utils>=2.3.0 in /srv/conda/envs/notebook/lib/python3.6/site-packages (from progressbar2->yodapy) (2.3.0)\n",
      "Requirement already satisfied: six in /srv/conda/envs/notebook/lib/python3.6/site-packages (from progressbar2->yodapy) (1.12.0)\n",
      "Requirement already satisfied: numpy>=1.9.3 in /srv/conda/envs/notebook/lib/python3.6/site-packages (from seaborn->yodapy) (1.16.3)\n",
      "Requirement already satisfied: scipy>=0.14.0 in /srv/conda/envs/notebook/lib/python3.6/site-packages (from seaborn->yodapy) (1.3.0)\n",
      "Requirement already satisfied: cftime in /srv/conda/envs/notebook/lib/python3.6/site-packages (from netcdf4==1.4.1->yodapy) (1.0.3.4)\n",
      "Requirement already satisfied: greenlet>=0.4.14; platform_python_implementation == \"CPython\" in /srv/conda/envs/notebook/lib/python3.6/site-packages (from gevent->yodapy) (0.4.15)\n",
      "Requirement already satisfied: python-dateutil>=2.5.0 in /srv/conda/envs/notebook/lib/python3.6/site-packages (from pandas->yodapy) (2.7.5)\n",
      "Requirement already satisfied: pytz>=2011k in /srv/conda/envs/notebook/lib/python3.6/site-packages (from pandas->yodapy) (2019.1)\n",
      "Requirement already satisfied: cycler>=0.10 in /srv/conda/envs/notebook/lib/python3.6/site-packages (from matplotlib->yodapy) (0.10.0)\n",
      "Requirement already satisfied: kiwisolver>=1.0.1 in /srv/conda/envs/notebook/lib/python3.6/site-packages (from matplotlib->yodapy) (1.1.0)\n",
      "Requirement already satisfied: pyparsing!=2.0.4,!=2.1.2,!=2.1.6,>=2.0.1 in /srv/conda/envs/notebook/lib/python3.6/site-packages (from matplotlib->yodapy) (2.4.0)\n",
      "Requirement already satisfied: pyasn1-modules>=0.0.5 in /srv/conda/envs/notebook/lib/python3.6/site-packages (from oauth2client->yodapy) (0.2.5)\n",
      "Requirement already satisfied: pyasn1>=0.1.7 in /srv/conda/envs/notebook/lib/python3.6/site-packages (from oauth2client->yodapy) (0.4.5)\n",
      "Requirement already satisfied: httplib2>=0.9.1 in /srv/conda/envs/notebook/lib/python3.6/site-packages (from oauth2client->yodapy) (0.12.3)\n",
      "Requirement already satisfied: rsa>=3.1.4 in /srv/conda/envs/notebook/lib/python3.6/site-packages (from oauth2client->yodapy) (3.4.2)\n",
      "Requirement already satisfied: urllib3<1.25,>=1.21.1 in /srv/conda/envs/notebook/lib/python3.6/site-packages (from requests->yodapy) (1.24.3)\n",
      "Requirement already satisfied: chardet<3.1.0,>=3.0.2 in /srv/conda/envs/notebook/lib/python3.6/site-packages (from requests->yodapy) (3.0.4)\n",
      "Requirement already satisfied: idna<2.9,>=2.5 in /srv/conda/envs/notebook/lib/python3.6/site-packages (from requests->yodapy) (2.8)\n",
      "Requirement already satisfied: certifi>=2017.4.17 in /srv/conda/envs/notebook/lib/python3.6/site-packages (from requests->yodapy) (2019.3.9)\n",
      "Requirement already satisfied: beautifulsoup4>=4.6 in /srv/conda/envs/notebook/lib/python3.6/site-packages (from siphon->yodapy) (4.7.1)\n",
      "Requirement already satisfied: protobuf>=3.0.0a3 in /srv/conda/envs/notebook/lib/python3.6/site-packages (from siphon->yodapy) (3.7.1)\n",
      "Requirement already satisfied: setuptools in /srv/conda/envs/notebook/lib/python3.6/site-packages (from kiwisolver>=1.0.1->matplotlib->yodapy) (41.0.1)\n",
      "Requirement already satisfied: soupsieve>=1.2 in /srv/conda/envs/notebook/lib/python3.6/site-packages (from beautifulsoup4>=4.6->siphon->yodapy) (1.9.1)\n",
      "Note: you may need to restart the kernel to use updated packages.\n"
     ]
    }
   ],
   "source": [
    "pip install yodapy"
   ]
  },
  {
   "cell_type": "code",
   "execution_count": 2,
   "metadata": {},
   "outputs": [],
   "source": [
    "from yodapy.utils.creds import set_credentials_file\n",
    "set_credentials_file(data_source='ooi', username='OOIAPI-2TZ7Z2WDD3K4M3', token='TEMP-TOKEN-3C52JVFRC74J6H')"
   ]
  },
  {
   "cell_type": "code",
   "execution_count": 3,
   "metadata": {},
   "outputs": [
    {
     "name": "stderr",
     "output_type": "stream",
     "text": [
      "/srv/conda/envs/notebook/lib/python3.6/site-packages/urllib3/connectionpool.py:847: InsecureRequestWarning: Unverified HTTPS request is being made. Adding certificate verification is strongly advised. See: https://urllib3.readthedocs.io/en/latest/advanced-usage.html#ssl-warnings\n",
      "  InsecureRequestWarning)\n",
      "/srv/conda/envs/notebook/lib/python3.6/site-packages/urllib3/connectionpool.py:847: InsecureRequestWarning: Unverified HTTPS request is being made. Adding certificate verification is strongly advised. See: https://urllib3.readthedocs.io/en/latest/advanced-usage.html#ssl-warnings\n",
      "  InsecureRequestWarning)\n",
      "/srv/conda/envs/notebook/lib/python3.6/site-packages/urllib3/connectionpool.py:847: InsecureRequestWarning: Unverified HTTPS request is being made. Adding certificate verification is strongly advised. See: https://urllib3.readthedocs.io/en/latest/advanced-usage.html#ssl-warnings\n",
      "  InsecureRequestWarning)\n",
      "/srv/conda/envs/notebook/lib/python3.6/site-packages/urllib3/connectionpool.py:847: InsecureRequestWarning: Unverified HTTPS request is being made. Adding certificate verification is strongly advised. See: https://urllib3.readthedocs.io/en/latest/advanced-usage.html#ssl-warnings\n",
      "  InsecureRequestWarning)\n",
      "/srv/conda/envs/notebook/lib/python3.6/site-packages/pandas/core/indexing.py:635: SettingWithCopyWarning: \n",
      "A value is trying to be set on a copy of a slice from a DataFrame.\n",
      "Try using .loc[row_indexer,col_indexer] = value instead\n",
      "\n",
      "See the caveats in the documentation: http://pandas.pydata.org/pandas-docs/stable/indexing.html#indexing-view-versus-copy\n",
      "  self.obj[item_labels[indexer[info_axis]]] = value\n"
     ]
    }
   ],
   "source": [
    "from yodapy.datasources import OOI\n",
    "ooi = OOI()"
   ]
  },
  {
   "cell_type": "code",
   "execution_count": 4,
   "metadata": {},
   "outputs": [
    {
     "data": {
      "text/html": [
       "<div>\n",
       "<style scoped>\n",
       "    .dataframe tbody tr th:only-of-type {\n",
       "        vertical-align: middle;\n",
       "    }\n",
       "\n",
       "    .dataframe tbody tr th {\n",
       "        vertical-align: top;\n",
       "    }\n",
       "\n",
       "    .dataframe thead th {\n",
       "        text-align: right;\n",
       "    }\n",
       "</style>\n",
       "<table border=\"1\" class=\"dataframe\">\n",
       "  <thead>\n",
       "    <tr style=\"text-align: right;\">\n",
       "      <th></th>\n",
       "      <th>array_rd</th>\n",
       "      <th>region_name</th>\n",
       "      <th>latitude</th>\n",
       "      <th>longitude</th>\n",
       "    </tr>\n",
       "  </thead>\n",
       "  <tbody>\n",
       "    <tr>\n",
       "      <th>0</th>\n",
       "      <td>CE</td>\n",
       "      <td>Coastal Endurance</td>\n",
       "      <td>44.3700</td>\n",
       "      <td>-124.9500</td>\n",
       "    </tr>\n",
       "    <tr>\n",
       "      <th>1</th>\n",
       "      <td>CP</td>\n",
       "      <td>Coastal Pioneer</td>\n",
       "      <td>40.1000</td>\n",
       "      <td>-70.8800</td>\n",
       "    </tr>\n",
       "    <tr>\n",
       "      <th>2</th>\n",
       "      <td>GA</td>\n",
       "      <td>Global Argentine Basin</td>\n",
       "      <td>-42.5073</td>\n",
       "      <td>-42.8905</td>\n",
       "    </tr>\n",
       "    <tr>\n",
       "      <th>3</th>\n",
       "      <td>GI</td>\n",
       "      <td>Global Irminger Sea</td>\n",
       "      <td>60.4582</td>\n",
       "      <td>-38.4407</td>\n",
       "    </tr>\n",
       "    <tr>\n",
       "      <th>4</th>\n",
       "      <td>GP</td>\n",
       "      <td>Global Station Papa</td>\n",
       "      <td>49.9795</td>\n",
       "      <td>-144.2540</td>\n",
       "    </tr>\n",
       "    <tr>\n",
       "      <th>5</th>\n",
       "      <td>GS</td>\n",
       "      <td>Global Southern Ocean</td>\n",
       "      <td>-54.0814</td>\n",
       "      <td>-89.6652</td>\n",
       "    </tr>\n",
       "    <tr>\n",
       "      <th>6</th>\n",
       "      <td>RS</td>\n",
       "      <td>Cabled Array</td>\n",
       "      <td>44.5540</td>\n",
       "      <td>-125.3520</td>\n",
       "    </tr>\n",
       "  </tbody>\n",
       "</table>\n",
       "</div>"
      ],
      "text/plain": [
       "  array_rd             region_name  latitude  longitude\n",
       "0       CE       Coastal Endurance   44.3700  -124.9500\n",
       "1       CP         Coastal Pioneer   40.1000   -70.8800\n",
       "2       GA  Global Argentine Basin  -42.5073   -42.8905\n",
       "3       GI     Global Irminger Sea   60.4582   -38.4407\n",
       "4       GP     Global Station Papa   49.9795  -144.2540\n",
       "5       GS   Global Southern Ocean  -54.0814   -89.6652\n",
       "6       RS            Cabled Array   44.5540  -125.3520"
      ]
     },
     "execution_count": 4,
     "metadata": {},
     "output_type": "execute_result"
    }
   ],
   "source": [
    "ooi.regions"
   ]
  }
 ],
 "metadata": {
  "kernelspec": {
   "display_name": "Python 3",
   "language": "python",
   "name": "python3"
  },
  "language_info": {
   "codemirror_mode": {
    "name": "ipython",
    "version": 3
   },
   "file_extension": ".py",
   "mimetype": "text/x-python",
   "name": "python",
   "nbconvert_exporter": "python",
   "pygments_lexer": "ipython3",
   "version": "3.6.7"
  }
 },
 "nbformat": 4,
 "nbformat_minor": 2
}
