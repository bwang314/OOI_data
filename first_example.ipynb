{
 "cells": [
  {
   "cell_type": "code",
   "execution_count": 3,
   "metadata": {},
   "outputs": [
    {
     "name": "stdout",
     "output_type": "stream",
     "text": [
      "Collecting yodapy\n",
      "  Using cached https://files.pythonhosted.org/packages/61/e7/adf980793fd5d2afe3874e742dd9313986652a9e8f7885cab549488db889/yodapy-0.2.4b0-py3-none-any.whl\n",
      "Collecting progressbar2 (from yodapy)\n",
      "  Using cached https://files.pythonhosted.org/packages/38/e7/30e919d888378b18833ae6732788419ac0023a89b0c46f679443e6908ec1/progressbar2-3.41.0-py2.py3-none-any.whl\n",
      "Collecting grequests (from yodapy)\n",
      "Collecting gevent (from yodapy)\n",
      "  Using cached https://files.pythonhosted.org/packages/f2/ca/5b5962361ed832847b6b2f9a2d0452c8c2f29a93baef850bb8ad067c7bf9/gevent-1.4.0-cp36-cp36m-manylinux1_x86_64.whl\n",
      "Requirement already satisfied: pandas in /srv/conda/envs/notebook/lib/python3.6/site-packages (from yodapy) (0.24.2)\n",
      "Requirement already satisfied: lxml in /srv/conda/envs/notebook/lib/python3.6/site-packages (from yodapy) (4.3.3)\n",
      "Requirement already satisfied: matplotlib in /srv/conda/envs/notebook/lib/python3.6/site-packages (from yodapy) (3.0.3)\n",
      "Requirement already satisfied: dask in /srv/conda/envs/notebook/lib/python3.6/site-packages (from yodapy) (1.1.1)\n",
      "Collecting netcdf4==1.4.1 (from yodapy)\n",
      "  Using cached https://files.pythonhosted.org/packages/07/37/a2bb81334851de4aab0bf06998ad8809c89d9776233e8ec06c1cdf77d707/netCDF4-1.4.1-cp36-cp36m-manylinux1_x86_64.whl\n",
      "Collecting siphon (from yodapy)\n",
      "  Using cached https://files.pythonhosted.org/packages/56/f5/2be03af9ac2911d4795ac69de86dbd1b48c404a7812a4bf1b00403eafda5/siphon-0.8.0-py2.py3-none-any.whl\n",
      "Collecting gspread (from yodapy)\n",
      "  Using cached https://files.pythonhosted.org/packages/43/f8/45bd4a1419fd65ecc02eeaceb92f9dc72aca20c32e766a18d495c68006db/gspread-3.1.0-py3-none-any.whl\n",
      "Collecting seaborn (from yodapy)\n",
      "  Using cached https://files.pythonhosted.org/packages/a8/76/220ba4420459d9c4c9c9587c6ce607bf56c25b3d3d2de62056efe482dadc/seaborn-0.9.0-py3-none-any.whl\n",
      "Requirement already satisfied: requests in /srv/conda/envs/notebook/lib/python3.6/site-packages (from yodapy) (2.21.0)\n",
      "Requirement already satisfied: xarray in /srv/conda/envs/notebook/lib/python3.6/site-packages (from yodapy) (0.12.1)\n",
      "Collecting oauth2client (from yodapy)\n",
      "  Using cached https://files.pythonhosted.org/packages/95/a9/4f25a14d23f0786b64875b91784607c2277eff25d48f915e39ff0cff505a/oauth2client-4.1.3-py2.py3-none-any.whl\n",
      "Requirement already satisfied: six in /srv/conda/envs/notebook/lib/python3.6/site-packages (from progressbar2->yodapy) (1.12.0)\n",
      "Collecting python-utils>=2.3.0 (from progressbar2->yodapy)\n",
      "  Using cached https://files.pythonhosted.org/packages/eb/a0/19119d8b7c05be49baf6c593f11c432d571b70d805f2fe94c0585e55e4c8/python_utils-2.3.0-py2.py3-none-any.whl\n",
      "Collecting greenlet>=0.4.14; platform_python_implementation == \"CPython\" (from gevent->yodapy)\n",
      "  Using cached https://files.pythonhosted.org/packages/bf/45/142141aa47e01a5779f0fa5a53b81f8379ce8f2b1cd13df7d2f1d751ae42/greenlet-0.4.15-cp36-cp36m-manylinux1_x86_64.whl\n",
      "Requirement already satisfied: python-dateutil>=2.5.0 in /srv/conda/envs/notebook/lib/python3.6/site-packages (from pandas->yodapy) (2.7.5)\n",
      "Requirement already satisfied: numpy>=1.12.0 in /srv/conda/envs/notebook/lib/python3.6/site-packages (from pandas->yodapy) (1.16.3)\n",
      "Requirement already satisfied: pytz>=2011k in /srv/conda/envs/notebook/lib/python3.6/site-packages (from pandas->yodapy) (2019.1)\n",
      "Requirement already satisfied: cycler>=0.10 in /srv/conda/envs/notebook/lib/python3.6/site-packages (from matplotlib->yodapy) (0.10.0)\n",
      "Requirement already satisfied: kiwisolver>=1.0.1 in /srv/conda/envs/notebook/lib/python3.6/site-packages (from matplotlib->yodapy) (1.1.0)\n",
      "Requirement already satisfied: pyparsing!=2.0.4,!=2.1.2,!=2.1.6,>=2.0.1 in /srv/conda/envs/notebook/lib/python3.6/site-packages (from matplotlib->yodapy) (2.4.0)\n",
      "Requirement already satisfied: cftime in /srv/conda/envs/notebook/lib/python3.6/site-packages (from netcdf4==1.4.1->yodapy) (1.0.3.4)\n",
      "Requirement already satisfied: protobuf>=3.0.0a3 in /srv/conda/envs/notebook/lib/python3.6/site-packages (from siphon->yodapy) (3.7.1)\n",
      "Requirement already satisfied: beautifulsoup4>=4.6 in /srv/conda/envs/notebook/lib/python3.6/site-packages (from siphon->yodapy) (4.7.1)\n",
      "Requirement already satisfied: scipy>=0.14.0 in /srv/conda/envs/notebook/lib/python3.6/site-packages (from seaborn->yodapy) (1.3.0)\n",
      "Requirement already satisfied: idna<2.9,>=2.5 in /srv/conda/envs/notebook/lib/python3.6/site-packages (from requests->yodapy) (2.8)\n",
      "Requirement already satisfied: chardet<3.1.0,>=3.0.2 in /srv/conda/envs/notebook/lib/python3.6/site-packages (from requests->yodapy) (3.0.4)\n",
      "Requirement already satisfied: certifi>=2017.4.17 in /srv/conda/envs/notebook/lib/python3.6/site-packages (from requests->yodapy) (2019.3.9)\n",
      "Requirement already satisfied: urllib3<1.25,>=1.21.1 in /srv/conda/envs/notebook/lib/python3.6/site-packages (from requests->yodapy) (1.24.3)\n",
      "Requirement already satisfied: pyasn1-modules>=0.0.5 in /srv/conda/envs/notebook/lib/python3.6/site-packages (from oauth2client->yodapy) (0.2.5)\n",
      "Requirement already satisfied: rsa>=3.1.4 in /srv/conda/envs/notebook/lib/python3.6/site-packages (from oauth2client->yodapy) (3.4.2)\n",
      "Requirement already satisfied: pyasn1>=0.1.7 in /srv/conda/envs/notebook/lib/python3.6/site-packages (from oauth2client->yodapy) (0.4.5)\n",
      "Collecting httplib2>=0.9.1 (from oauth2client->yodapy)\n",
      "  Using cached https://files.pythonhosted.org/packages/e8/b3/b34037575d6d75ff8dcfcf75315f56befbe409952be9f95c9b8cc9ee0499/httplib2-0.12.3-py3-none-any.whl\n",
      "Requirement already satisfied: setuptools in /srv/conda/envs/notebook/lib/python3.6/site-packages (from kiwisolver>=1.0.1->matplotlib->yodapy) (41.0.1)\n",
      "Requirement already satisfied: soupsieve>=1.2 in /srv/conda/envs/notebook/lib/python3.6/site-packages (from beautifulsoup4>=4.6->siphon->yodapy) (1.9.1)\n",
      "\u001b[31mERROR: scitools-iris 2.2.0 has requirement matplotlib<3,>=2, but you'll have matplotlib 3.0.3 which is incompatible.\u001b[0m\n",
      "\u001b[31mERROR: datacube 1.6.2 has requirement gdal<2.4,>=1.9, but you'll have gdal 2.4.1 which is incompatible.\u001b[0m\n",
      "Installing collected packages: python-utils, progressbar2, greenlet, gevent, grequests, netcdf4, siphon, gspread, seaborn, httplib2, oauth2client, yodapy\n",
      "  Found existing installation: netCDF4 1.5.1.2\n",
      "    Uninstalling netCDF4-1.5.1.2:\n",
      "      Successfully uninstalled netCDF4-1.5.1.2\n",
      "Successfully installed gevent-1.4.0 greenlet-0.4.15 grequests-0.3.0 gspread-3.1.0 httplib2-0.12.3 netcdf4-1.4.1 oauth2client-4.1.3 progressbar2-3.41.0 python-utils-2.3.0 seaborn-0.9.0 siphon-0.8.0 yodapy-0.2.4b0\n",
      "Note: you may need to restart the kernel to use updated packages.\n"
     ]
    }
   ],
   "source": [
    "pip install yodapy"
   ]
  },
  {
   "cell_type": "code",
   "execution_count": 4,
   "metadata": {},
   "outputs": [],
   "source": [
    "from yodapy.utils.creds import set_credentials_file\n",
    "set_credentials_file(data_source='ooi', username='OOIAPI-2TZ7Z2WDD3K4M3', token='TEMP-TOKEN-3C52JVFRC74J6H')"
   ]
  },
  {
   "cell_type": "code",
   "execution_count": 5,
   "metadata": {},
   "outputs": [
    {
     "name": "stderr",
     "output_type": "stream",
     "text": [
      "/srv/conda/envs/notebook/lib/python3.6/site-packages/urllib3/connectionpool.py:847: InsecureRequestWarning: Unverified HTTPS request is being made. Adding certificate verification is strongly advised. See: https://urllib3.readthedocs.io/en/latest/advanced-usage.html#ssl-warnings\n",
      "  InsecureRequestWarning)\n",
      "/srv/conda/envs/notebook/lib/python3.6/site-packages/urllib3/connectionpool.py:847: InsecureRequestWarning: Unverified HTTPS request is being made. Adding certificate verification is strongly advised. See: https://urllib3.readthedocs.io/en/latest/advanced-usage.html#ssl-warnings\n",
      "  InsecureRequestWarning)\n"
     ]
    }
   ],
   "source": [
    "from yodapy.datasources import OOI\n",
    "ooi = OOI()"
   ]
  },
  {
   "cell_type": "code",
   "execution_count": 6,
   "metadata": {},
   "outputs": [
    {
     "data": {
      "text/html": [
       "<div>\n",
       "<style scoped>\n",
       "    .dataframe tbody tr th:only-of-type {\n",
       "        vertical-align: middle;\n",
       "    }\n",
       "\n",
       "    .dataframe tbody tr th {\n",
       "        vertical-align: top;\n",
       "    }\n",
       "\n",
       "    .dataframe thead th {\n",
       "        text-align: right;\n",
       "    }\n",
       "</style>\n",
       "<table border=\"1\" class=\"dataframe\">\n",
       "  <thead>\n",
       "    <tr style=\"text-align: right;\">\n",
       "      <th></th>\n",
       "      <th>array_rd</th>\n",
       "      <th>region_name</th>\n",
       "      <th>latitude</th>\n",
       "      <th>longitude</th>\n",
       "    </tr>\n",
       "  </thead>\n",
       "  <tbody>\n",
       "    <tr>\n",
       "      <th>0</th>\n",
       "      <td>CE</td>\n",
       "      <td>Coastal Endurance</td>\n",
       "      <td>44.3700</td>\n",
       "      <td>-124.9500</td>\n",
       "    </tr>\n",
       "    <tr>\n",
       "      <th>1</th>\n",
       "      <td>CP</td>\n",
       "      <td>Coastal Pioneer</td>\n",
       "      <td>40.1000</td>\n",
       "      <td>-70.8800</td>\n",
       "    </tr>\n",
       "    <tr>\n",
       "      <th>2</th>\n",
       "      <td>GA</td>\n",
       "      <td>Global Argentine Basin</td>\n",
       "      <td>-42.5073</td>\n",
       "      <td>-42.8905</td>\n",
       "    </tr>\n",
       "    <tr>\n",
       "      <th>3</th>\n",
       "      <td>GI</td>\n",
       "      <td>Global Irminger Sea</td>\n",
       "      <td>60.4582</td>\n",
       "      <td>-38.4407</td>\n",
       "    </tr>\n",
       "    <tr>\n",
       "      <th>4</th>\n",
       "      <td>GP</td>\n",
       "      <td>Global Station Papa</td>\n",
       "      <td>49.9795</td>\n",
       "      <td>-144.2540</td>\n",
       "    </tr>\n",
       "    <tr>\n",
       "      <th>5</th>\n",
       "      <td>GS</td>\n",
       "      <td>Global Southern Ocean</td>\n",
       "      <td>-54.0814</td>\n",
       "      <td>-89.6652</td>\n",
       "    </tr>\n",
       "    <tr>\n",
       "      <th>6</th>\n",
       "      <td>RS</td>\n",
       "      <td>Cabled Array</td>\n",
       "      <td>44.5540</td>\n",
       "      <td>-125.3520</td>\n",
       "    </tr>\n",
       "  </tbody>\n",
       "</table>\n",
       "</div>"
      ],
      "text/plain": [
       "  array_rd             region_name  latitude  longitude\n",
       "0       CE       Coastal Endurance   44.3700  -124.9500\n",
       "1       CP         Coastal Pioneer   40.1000   -70.8800\n",
       "2       GA  Global Argentine Basin  -42.5073   -42.8905\n",
       "3       GI     Global Irminger Sea   60.4582   -38.4407\n",
       "4       GP     Global Station Papa   49.9795  -144.2540\n",
       "5       GS   Global Southern Ocean  -54.0814   -89.6652\n",
       "6       RS            Cabled Array   44.5540  -125.3520"
      ]
     },
     "execution_count": 6,
     "metadata": {},
     "output_type": "execute_result"
    },
    {
     "name": "stderr",
     "output_type": "stream",
     "text": [
      "/srv/conda/envs/notebook/lib/python3.6/site-packages/urllib3/connectionpool.py:847: InsecureRequestWarning: Unverified HTTPS request is being made. Adding certificate verification is strongly advised. See: https://urllib3.readthedocs.io/en/latest/advanced-usage.html#ssl-warnings\n",
      "  InsecureRequestWarning)\n",
      "/srv/conda/envs/notebook/lib/python3.6/site-packages/urllib3/connectionpool.py:847: InsecureRequestWarning: Unverified HTTPS request is being made. Adding certificate verification is strongly advised. See: https://urllib3.readthedocs.io/en/latest/advanced-usage.html#ssl-warnings\n",
      "  InsecureRequestWarning)\n",
      "/srv/conda/envs/notebook/lib/python3.6/site-packages/pandas/core/indexing.py:635: SettingWithCopyWarning: \n",
      "A value is trying to be set on a copy of a slice from a DataFrame.\n",
      "Try using .loc[row_indexer,col_indexer] = value instead\n",
      "\n",
      "See the caveats in the documentation: http://pandas.pydata.org/pandas-docs/stable/indexing.html#indexing-view-versus-copy\n",
      "  self.obj[item_labels[indexer[info_axis]]] = value\n"
     ]
    }
   ],
   "source": [
    "ooi.regions"
   ]
  },
  {
   "cell_type": "code",
   "execution_count": 13,
   "metadata": {},
   "outputs": [
    {
     "name": "stdout",
     "output_type": "stream",
     "text": [
      "Help on method search in module yodapy.datasources.ooi.OOI:\n",
      "\n",
      "search(region=None, site=None, node=None, instrument=None, stream_type='Science', stream_method=None, stream=None, parameter=None) method of yodapy.datasources.ooi.OOI.OOI instance\n",
      "    Perform a search, and filters data catalog\n",
      "    \n",
      "    Args:\n",
      "        region (str): Region name. If multiple use comma separated.\n",
      "        site (str): Site name. If multiple use comma separated.\n",
      "        node (str): Node name. If multiple use comma separated.\n",
      "        instrument (str): Instrument name. If multiple use comma separated.\n",
      "        stream_type (str): Stream type. Either 'Science' or 'Engineering'. If multiple use comma separated.\n",
      "        stream_method (str): Stream method. If multiple use comma separated.\n",
      "        stream (str): Stream name. If multiple use comma separated.\n",
      "        parameter (str): Parameter name. If multiple use comma separated.\n",
      "    \n",
      "    Returns:\n",
      "        self: Modified OOI Object\n",
      "\n"
     ]
    }
   ],
   "source": [
    "help(ooi.search)"
   ]
  },
  {
   "cell_type": "code",
   "execution_count": 21,
   "metadata": {},
   "outputs": [
    {
     "name": "stderr",
     "output_type": "stream",
     "text": [
      "/srv/conda/envs/notebook/lib/python3.6/site-packages/urllib3/connectionpool.py:847: InsecureRequestWarning: Unverified HTTPS request is being made. Adding certificate verification is strongly advised. See: https://urllib3.readthedocs.io/en/latest/advanced-usage.html#ssl-warnings\n",
      "  InsecureRequestWarning)\n"
     ]
    },
    {
     "data": {
      "text/html": [
       "<div>\n",
       "<style scoped>\n",
       "    .dataframe tbody tr th:only-of-type {\n",
       "        vertical-align: middle;\n",
       "    }\n",
       "\n",
       "    .dataframe tbody tr th {\n",
       "        vertical-align: top;\n",
       "    }\n",
       "\n",
       "    .dataframe thead th {\n",
       "        text-align: right;\n",
       "    }\n",
       "</style>\n",
       "<table border=\"1\" class=\"dataframe\">\n",
       "  <thead>\n",
       "    <tr style=\"text-align: right;\">\n",
       "      <th></th>\n",
       "      <th>RS01SUM1-LJ01B-12-VEL3DB104-streamed-vel3d_b_sample</th>\n",
       "    </tr>\n",
       "  </thead>\n",
       "  <tbody>\n",
       "    <tr>\n",
       "      <th>0</th>\n",
       "      <td>Cabled Continental Margin (Cabled Array)</td>\n",
       "    </tr>\n",
       "    <tr>\n",
       "      <th>1</th>\n",
       "      <td>Southern Hydrate Summit 1 Seafloor</td>\n",
       "    </tr>\n",
       "    <tr>\n",
       "      <th>2</th>\n",
       "      <td>Low-Power JBox (LJ01B)</td>\n",
       "    </tr>\n",
       "    <tr>\n",
       "      <th>3</th>\n",
       "      <td>3-D Single Point Velocity Meter</td>\n",
       "    </tr>\n",
       "    <tr>\n",
       "      <th>4</th>\n",
       "      <td>streamed</td>\n",
       "    </tr>\n",
       "    <tr>\n",
       "      <th>5</th>\n",
       "      <td>vel3d_b_sample</td>\n",
       "    </tr>\n",
       "  </tbody>\n",
       "</table>\n",
       "</div>"
      ],
      "text/plain": [
       "  RS01SUM1-LJ01B-12-VEL3DB104-streamed-vel3d_b_sample\n",
       "0           Cabled Continental Margin (Cabled Array) \n",
       "1                 Southern Hydrate Summit 1 Seafloor \n",
       "2                             Low-Power JBox (LJ01B) \n",
       "3                    3-D Single Point Velocity Meter \n",
       "4                                           streamed \n",
       "5                                     vel3d_b_sample "
      ]
     },
     "execution_count": 21,
     "metadata": {},
     "output_type": "execute_result"
    },
    {
     "data": {
      "image/png": "[encoded data removed]",
      "text/plain": [
       "<Figure size 1440x720 with 2 Axes>"
      ]
     },
     "metadata": {},
     "output_type": "display_data"
    }
   ],
   "source": [
    "ooi.search(region='cabled',site='Southern Hydrate Summit 1 Seafloor',instrument='3-D Single Point Velocity Meter')\n",
    "ooi.instruments\n",
    "ooi.data_availability()"
   ]
  },
  {
   "cell_type": "code",
   "execution_count": 22,
   "metadata": {},
   "outputs": [],
   "source": [
    "begin_date = '2018-01-01'\n",
    "end_date = '2018-01-02'"
   ]
  },
  {
   "cell_type": "code",
   "execution_count": 23,
   "metadata": {},
   "outputs": [
    {
     "name": "stderr",
     "output_type": "stream",
     "text": [
      "/srv/conda/envs/notebook/lib/python3.6/site-packages/urllib3/connectionpool.py:847: InsecureRequestWarning: Unverified HTTPS request is being made. Adding certificate verification is strongly advised. See: https://urllib3.readthedocs.io/en/latest/advanced-usage.html#ssl-warnings\n",
      "  InsecureRequestWarning)\n"
     ]
    },
    {
     "data": {
      "text/plain": [
       "<Data Source: OOI (1 Instrument Stream)>"
      ]
     },
     "execution_count": 23,
     "metadata": {},
     "output_type": "execute_result"
    }
   ],
   "source": [
    "ooi.request_data(begin_date = begin_date, end_date = end_date)"
   ]
  },
  {
   "cell_type": "code",
   "execution_count": 24,
   "metadata": {},
   "outputs": [
    {
     "name": "stderr",
     "output_type": "stream",
     "text": [
      "(MainThread) Your data (https://opendap.oceanobservatories.org/async_results/wangbinb@missouri.edu/20190531T012620-RS01SUM1-LJ01B-12-VEL3DB104-streamed-vel3d_b_sample) is still compiling... Please wait.\n"
     ]
    },
    {
     "name": "stdout",
     "output_type": "stream",
     "text": [
      "Your data (https://opendap.oceanobservatories.org/async_results/wangbinb@missouri.edu/20190531T012620-RS01SUM1-LJ01B-12-VEL3DB104-streamed-vel3d_b_sample) is still compiling... Please wait.\n"
     ]
    }
   ],
   "source": [
    "ooi.check_status()"
   ]
  },
  {
   "cell_type": "code",
   "execution_count": 25,
   "metadata": {},
   "outputs": [
    {
     "name": "stderr",
     "output_type": "stream",
     "text": [
      "(MainThread) Your data (https://opendap.oceanobservatories.org/async_results/wangbinb@missouri.edu/20190531T012620-RS01SUM1-LJ01B-12-VEL3DB104-streamed-vel3d_b_sample) is still compiling... Please wait.\n"
     ]
    },
    {
     "name": "stdout",
     "output_type": "stream",
     "text": [
      "Your data (https://opendap.oceanobservatories.org/async_results/wangbinb@missouri.edu/20190531T012620-RS01SUM1-LJ01B-12-VEL3DB104-streamed-vel3d_b_sample) is still compiling... Please wait.\n"
     ]
    },
    {
     "name": "stderr",
     "output_type": "stream",
     "text": [
      "(MainThread) Data request time elapsed: 10s\n",
      "(MainThread) Your data (https://opendap.oceanobservatories.org/async_results/wangbinb@missouri.edu/20190531T012620-RS01SUM1-LJ01B-12-VEL3DB104-streamed-vel3d_b_sample) is still compiling... Please wait.\n"
     ]
    },
    {
     "name": "stdout",
     "output_type": "stream",
     "text": [
      "Data request time elapsed: 10s\n",
      "Your data (https://opendap.oceanobservatories.org/async_results/wangbinb@missouri.edu/20190531T012620-RS01SUM1-LJ01B-12-VEL3DB104-streamed-vel3d_b_sample) is still compiling... Please wait.\n"
     ]
    },
    {
     "name": "stderr",
     "output_type": "stream",
     "text": [
      "(MainThread) Data request time elapsed: 20s\n",
      "(MainThread) Your data (https://opendap.oceanobservatories.org/async_results/wangbinb@missouri.edu/20190531T012620-RS01SUM1-LJ01B-12-VEL3DB104-streamed-vel3d_b_sample) is still compiling... Please wait.\n"
     ]
    },
    {
     "name": "stdout",
     "output_type": "stream",
     "text": [
      "Data request time elapsed: 20s\n",
      "Your data (https://opendap.oceanobservatories.org/async_results/wangbinb@missouri.edu/20190531T012620-RS01SUM1-LJ01B-12-VEL3DB104-streamed-vel3d_b_sample) is still compiling... Please wait.\n"
     ]
    },
    {
     "name": "stderr",
     "output_type": "stream",
     "text": [
      "(MainThread) Data request time elapsed: 30s\n",
      "(MainThread) Request (https://opendap.oceanobservatories.org/async_results/wangbinb@missouri.edu/20190531T012620-RS01SUM1-LJ01B-12-VEL3DB104-streamed-vel3d_b_sample) completed.\n",
      "(MainThread) Acquiring data from opendap urls ...\n"
     ]
    },
    {
     "name": "stdout",
     "output_type": "stream",
     "text": [
      "Data request time elapsed: 30s\n",
      "Request (https://opendap.oceanobservatories.org/async_results/wangbinb@missouri.edu/20190531T012620-RS01SUM1-LJ01B-12-VEL3DB104-streamed-vel3d_b_sample) completed.\n"
     ]
    }
   ],
   "source": [
    "ds_list = ooi.to_xarray()"
   ]
  },
  {
   "cell_type": "code",
   "execution_count": 39,
   "metadata": {},
   "outputs": [
    {
     "data": {
      "text/plain": [
       "[<xarray.Dataset>\n",
       " Dimensions:                                   (obs: 86400)\n",
       " Coordinates:\n",
       "   * obs                                       (obs) int32 0 1 2 ... 86398 86399\n",
       "     time                                      (obs) datetime64[ns] dask.array<shape=(86400,), chunksize=(86400,)>\n",
       "     lat                                       (obs) float64 dask.array<shape=(86400,), chunksize=(86400,)>\n",
       "     lon                                       (obs) float64 dask.array<shape=(86400,), chunksize=(86400,)>\n",
       " Data variables:\n",
       "     deployment                                (obs) int32 dask.array<shape=(86400,), chunksize=(86400,)>\n",
       "     id                                        (obs) |S64 dask.array<shape=(86400,), chunksize=(86400,)>\n",
       "     date_time_string                          (obs) object dask.array<shape=(86400,), chunksize=(86400,)>\n",
       "     driver_timestamp                          (obs) datetime64[ns] dask.array<shape=(86400,), chunksize=(86400,)>\n",
       "     ingestion_timestamp                       (obs) datetime64[ns] dask.array<shape=(86400,), chunksize=(86400,)>\n",
       "     internal_timestamp                        (obs) datetime64[ns] dask.array<shape=(86400,), chunksize=(86400,)>\n",
       "     mag_comp_x                                (obs) float32 dask.array<shape=(86400,), chunksize=(86400,)>\n",
       "     mag_comp_y                                (obs) float32 dask.array<shape=(86400,), chunksize=(86400,)>\n",
       "     pitch                                     (obs) float32 dask.array<shape=(86400,), chunksize=(86400,)>\n",
       "     port_timestamp                            (obs) datetime64[ns] dask.array<shape=(86400,), chunksize=(86400,)>\n",
       "     preferred_timestamp                       (obs) object dask.array<shape=(86400,), chunksize=(86400,)>\n",
       "     roll                                      (obs) float32 dask.array<shape=(86400,), chunksize=(86400,)>\n",
       "     temperature                               (obs) float32 dask.array<shape=(86400,), chunksize=(86400,)>\n",
       "     turbulent_velocity_east                   (obs) float32 dask.array<shape=(86400,), chunksize=(86400,)>\n",
       "     turbulent_velocity_north                  (obs) float32 dask.array<shape=(86400,), chunksize=(86400,)>\n",
       "     turbulent_velocity_up                     (obs) float32 dask.array<shape=(86400,), chunksize=(86400,)>\n",
       "     velocity_beam_a                           (obs) float64 dask.array<shape=(86400,), chunksize=(86400,)>\n",
       "     velocity_beam_b                           (obs) float64 dask.array<shape=(86400,), chunksize=(86400,)>\n",
       "     velocity_beam_c                           (obs) float64 dask.array<shape=(86400,), chunksize=(86400,)>\n",
       "     velocity_beam_d                           (obs) float64 dask.array<shape=(86400,), chunksize=(86400,)>\n",
       "     eastward_turbulent_velocity               (obs) float64 dask.array<shape=(86400,), chunksize=(86400,)>\n",
       "     northward_turbulent_velocity              (obs) float64 dask.array<shape=(86400,), chunksize=(86400,)>\n",
       "     upward_turbulent_velocity                 (obs) float64 dask.array<shape=(86400,), chunksize=(86400,)>\n",
       "     temperature_qc_executed                   (obs) float32 dask.array<shape=(86400,), chunksize=(86400,)>\n",
       "     temperature_qc_results                    (obs) float32 dask.array<shape=(86400,), chunksize=(86400,)>\n",
       "     turbulent_velocity_east_qc_executed       (obs) float32 dask.array<shape=(86400,), chunksize=(86400,)>\n",
       "     turbulent_velocity_east_qc_results        (obs) float32 dask.array<shape=(86400,), chunksize=(86400,)>\n",
       "     turbulent_velocity_north_qc_executed      (obs) float32 dask.array<shape=(86400,), chunksize=(86400,)>\n",
       "     turbulent_velocity_north_qc_results       (obs) float32 dask.array<shape=(86400,), chunksize=(86400,)>\n",
       "     turbulent_velocity_up_qc_executed         (obs) float32 dask.array<shape=(86400,), chunksize=(86400,)>\n",
       "     turbulent_velocity_up_qc_results          (obs) float32 dask.array<shape=(86400,), chunksize=(86400,)>\n",
       "     eastward_turbulent_velocity_qc_executed   (obs) float32 dask.array<shape=(86400,), chunksize=(86400,)>\n",
       "     eastward_turbulent_velocity_qc_results    (obs) float32 dask.array<shape=(86400,), chunksize=(86400,)>\n",
       "     northward_turbulent_velocity_qc_executed  (obs) float32 dask.array<shape=(86400,), chunksize=(86400,)>\n",
       "     northward_turbulent_velocity_qc_results   (obs) float32 dask.array<shape=(86400,), chunksize=(86400,)>\n",
       "     upward_turbulent_velocity_qc_executed     (obs) float32 dask.array<shape=(86400,), chunksize=(86400,)>\n",
       "     upward_turbulent_velocity_qc_results      (obs) float32 dask.array<shape=(86400,), chunksize=(86400,)>\n",
       " Attributes:\n",
       "     _NCProperties:                   version=1|netcdflibversion=4.4.1.1|hdf5l...\n",
       "     node:                            LJ01B\n",
       "     comment:                         \n",
       "     publisher_email:                 \n",
       "     sourceUrl:                       http://oceanobservatories.org/\n",
       "     collection_method:               streamed\n",
       "     stream:                          vel3d_b_sample\n",
       "     featureType:                     point\n",
       "     creator_email:                   \n",
       "     publisher_name:                  Ocean Observatories Initiative\n",
       "     date_modified:                   2019-05-31T01:26:55.154897\n",
       "     keywords:                        \n",
       "     cdm_data_type:                   Point\n",
       "     references:                      More information can be found at http://...\n",
       "     Metadata_Conventions:            Unidata Dataset Discovery v1.0\n",
       "     date_created:                    2019-05-31T01:26:55.154890\n",
       "     id:                              RS01SUM1-LJ01B-12-VEL3DB104-streamed-vel...\n",
       "     requestUUID:                     1f7d1690-8a49-4b63-9113-f48e5726d281\n",
       "     contributor_role:                \n",
       "     summary:                         Dataset Generated by Stream Engine from ...\n",
       "     keywords_vocabulary:             \n",
       "     institution:                     Ocean Observatories Initiative\n",
       "     naming_authority:                org.oceanobservatories\n",
       "     feature_Type:                    point\n",
       "     infoUrl:                         http://oceanobservatories.org/\n",
       "     license:                         \n",
       "     contributor_name:                \n",
       "     uuid:                            1f7d1690-8a49-4b63-9113-f48e5726d281\n",
       "     creator_name:                    Ocean Observatories Initiative\n",
       "     title:                           Data produced by Stream Engine version 1...\n",
       "     sensor:                          12-VEL3DB104\n",
       "     standard_name_vocabulary:        NetCDF Climate and Forecast (CF) Metadat...\n",
       "     acknowledgement:                 \n",
       "     Conventions:                     CF-1.6\n",
       "     project:                         Ocean Observatories Initiative\n",
       "     source:                          RS01SUM1-LJ01B-12-VEL3DB104-streamed-vel...\n",
       "     publisher_url:                   http://oceanobservatories.org/\n",
       "     creator_url:                     http://oceanobservatories.org/\n",
       "     nodc_template_version:           NODC_NetCDF_TimeSeries_Orthogonal_Templa...\n",
       "     subsite:                         RS01SUM1\n",
       "     processing_level:                L2\n",
       "     history:                         2019-05-31T01:26:55.154798 generated fro...\n",
       "     time_coverage_start:             2018-01-01T00:00:00.538513\n",
       "     time_coverage_end:               2018-01-01T23:59:59.473688\n",
       "     time_coverage_resolution:        P1.00S\n",
       "     geospatial_lat_min:              44.56911\n",
       "     geospatial_lat_max:              44.56911\n",
       "     geospatial_lat_units:            degrees_north\n",
       "     geospatial_lat_resolution:       0.1\n",
       "     geospatial_lon_min:              -125.14797\n",
       "     geospatial_lon_max:              -125.14797\n",
       "     geospatial_lon_units:            degrees_east\n",
       "     geospatial_lon_resolution:       0.1\n",
       "     geospatial_vertical_units:       meters\n",
       "     geospatial_vertical_resolution:  0.1\n",
       "     geospatial_vertical_positive:    down\n",
       "     DODS.strlen:                     14\n",
       "     DODS.dimName:                    string14\n",
       "     DODS_EXTRA.Unlimited_Dimension:  obs]"
      ]
     },
     "execution_count": 39,
     "metadata": {},
     "output_type": "execute_result"
    }
   ],
   "source": [
    "ds_list"
   ]
  },
  {
   "cell_type": "code",
   "execution_count": 46,
   "metadata": {},
   "outputs": [],
   "source": [
    "d = ds_list[0]\n",
    "veast = d.turbulent_velocity_east\n",
    "vnorth = d.turbulent_velocity_north\n",
    "vup = d.turbulent_velocity_up\n",
    "temp = d.temperature\n",
    "time = d.time"
   ]
  },
  {
   "cell_type": "code",
   "execution_count": 47,
   "metadata": {},
   "outputs": [],
   "source": [
    "import matplotlib.pyplot as plt"
   ]
  },
  {
   "cell_type": "code",
   "execution_count": 48,
   "metadata": {},
   "outputs": [
    {
     "data": {
      "text/plain": [
       "[<matplotlib.lines.Line2D at 0x7fc3840685f8>]"
      ]
     },
     "execution_count": 48,
     "metadata": {},
     "output_type": "execute_result"
    },
    {
     "data": {
      "image/png": "[encoded data removed]",
      "text/plain": [
       "<Figure size 432x288 with 1 Axes>"
      ]
     },
     "metadata": {},
     "output_type": "display_data"
    }
   ],
   "source": [
    "plt.plot(time,vnorth)"
   ]
  },
  {
   "cell_type": "code",
   "execution_count": 49,
   "metadata": {},
   "outputs": [
    {
     "data": {
      "text/plain": [
       "<xarray.DataArray 'time' ()>\n",
       "dask.array<shape=(), dtype=timedelta64[ns], chunksize=()>\n",
       "Coordinates:\n",
       "    lat      float64 dask.array<shape=(), chunksize=()>\n",
       "    lon      float64 dask.array<shape=(), chunksize=()>"
      ]
     },
     "execution_count": 49,
     "metadata": {},
     "output_type": "execute_result"
    }
   ],
   "source": []
  },
  {
   "cell_type": "code",
   "execution_count": null,
   "metadata": {},
   "outputs": [],
   "source": []
  }
 ],
 "metadata": {
  "kernelspec": {
   "display_name": "Python 3",
   "language": "python",
   "name": "python3"
  },
  "language_info": {
   "codemirror_mode": {
    "name": "ipython",
    "version": 3
   },
   "file_extension": ".py",
   "mimetype": "text/x-python",
   "name": "python",
   "nbconvert_exporter": "python",
   "pygments_lexer": "ipython3",
   "version": "3.6.7"
  }
 },
 "nbformat": 4,
 "nbformat_minor": 2
}
