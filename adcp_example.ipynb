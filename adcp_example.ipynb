{
 "cells": [
  {
   "cell_type": "code",
   "execution_count": 4,
   "metadata": {},
   "outputs": [
    {
     "name": "stdout",
     "output_type": "stream",
     "text": [
      "Requirement already satisfied: yodapy in /srv/conda/envs/notebook/lib/python3.6/site-packages (0.2.4b0)\n",
      "Requirement already satisfied: dask in /srv/conda/envs/notebook/lib/python3.6/site-packages (from yodapy) (1.1.1)\n",
      "Requirement already satisfied: progressbar2 in /srv/conda/envs/notebook/lib/python3.6/site-packages (from yodapy) (3.41.0)\n",
      "Requirement already satisfied: xarray in /srv/conda/envs/notebook/lib/python3.6/site-packages (from yodapy) (0.12.1)\n",
      "Requirement already satisfied: pandas in /srv/conda/envs/notebook/lib/python3.6/site-packages (from yodapy) (0.24.2)\n",
      "Requirement already satisfied: grequests in /srv/conda/envs/notebook/lib/python3.6/site-packages (from yodapy) (0.3.0)\n",
      "Requirement already satisfied: seaborn in /srv/conda/envs/notebook/lib/python3.6/site-packages (from yodapy) (0.9.0)\n",
      "Requirement already satisfied: siphon in /srv/conda/envs/notebook/lib/python3.6/site-packages (from yodapy) (0.8.0)\n",
      "Requirement already satisfied: matplotlib in /srv/conda/envs/notebook/lib/python3.6/site-packages (from yodapy) (3.0.3)\n",
      "Requirement already satisfied: requests in /srv/conda/envs/notebook/lib/python3.6/site-packages (from yodapy) (2.21.0)\n",
      "Requirement already satisfied: netcdf4==1.4.1 in /srv/conda/envs/notebook/lib/python3.6/site-packages (from yodapy) (1.4.1)\n",
      "Requirement already satisfied: oauth2client in /srv/conda/envs/notebook/lib/python3.6/site-packages (from yodapy) (4.1.3)\n",
      "Requirement already satisfied: lxml in /srv/conda/envs/notebook/lib/python3.6/site-packages (from yodapy) (4.3.3)\n",
      "Requirement already satisfied: gspread in /srv/conda/envs/notebook/lib/python3.6/site-packages (from yodapy) (3.1.0)\n",
      "Requirement already satisfied: gevent in /srv/conda/envs/notebook/lib/python3.6/site-packages (from yodapy) (1.4.0)\n",
      "Requirement already satisfied: six in /srv/conda/envs/notebook/lib/python3.6/site-packages (from progressbar2->yodapy) (1.12.0)\n",
      "Requirement already satisfied: python-utils>=2.3.0 in /srv/conda/envs/notebook/lib/python3.6/site-packages (from progressbar2->yodapy) (2.3.0)\n",
      "Requirement already satisfied: numpy>=1.12 in /srv/conda/envs/notebook/lib/python3.6/site-packages (from xarray->yodapy) (1.16.3)\n",
      "Requirement already satisfied: pytz>=2011k in /srv/conda/envs/notebook/lib/python3.6/site-packages (from pandas->yodapy) (2019.1)\n",
      "Requirement already satisfied: python-dateutil>=2.5.0 in /srv/conda/envs/notebook/lib/python3.6/site-packages (from pandas->yodapy) (2.7.5)\n",
      "Requirement already satisfied: scipy>=0.14.0 in /srv/conda/envs/notebook/lib/python3.6/site-packages (from seaborn->yodapy) (1.3.0)\n",
      "Requirement already satisfied: beautifulsoup4>=4.6 in /srv/conda/envs/notebook/lib/python3.6/site-packages (from siphon->yodapy) (4.7.1)\n",
      "Requirement already satisfied: protobuf>=3.0.0a3 in /srv/conda/envs/notebook/lib/python3.6/site-packages (from siphon->yodapy) (3.7.1)\n",
      "Requirement already satisfied: cycler>=0.10 in /srv/conda/envs/notebook/lib/python3.6/site-packages (from matplotlib->yodapy) (0.10.0)\n",
      "Requirement already satisfied: kiwisolver>=1.0.1 in /srv/conda/envs/notebook/lib/python3.6/site-packages (from matplotlib->yodapy) (1.1.0)\n",
      "Requirement already satisfied: pyparsing!=2.0.4,!=2.1.2,!=2.1.6,>=2.0.1 in /srv/conda/envs/notebook/lib/python3.6/site-packages (from matplotlib->yodapy) (2.4.0)\n",
      "Requirement already satisfied: idna<2.9,>=2.5 in /srv/conda/envs/notebook/lib/python3.6/site-packages (from requests->yodapy) (2.8)\n",
      "Requirement already satisfied: chardet<3.1.0,>=3.0.2 in /srv/conda/envs/notebook/lib/python3.6/site-packages (from requests->yodapy) (3.0.4)\n",
      "Requirement already satisfied: certifi>=2017.4.17 in /srv/conda/envs/notebook/lib/python3.6/site-packages (from requests->yodapy) (2019.3.9)\n",
      "Requirement already satisfied: urllib3<1.25,>=1.21.1 in /srv/conda/envs/notebook/lib/python3.6/site-packages (from requests->yodapy) (1.24.3)\n",
      "Requirement already satisfied: cftime in /srv/conda/envs/notebook/lib/python3.6/site-packages (from netcdf4==1.4.1->yodapy) (1.0.3.4)\n",
      "Requirement already satisfied: pyasn1>=0.1.7 in /srv/conda/envs/notebook/lib/python3.6/site-packages (from oauth2client->yodapy) (0.4.5)\n",
      "Requirement already satisfied: rsa>=3.1.4 in /srv/conda/envs/notebook/lib/python3.6/site-packages (from oauth2client->yodapy) (3.4.2)\n",
      "Requirement already satisfied: httplib2>=0.9.1 in /srv/conda/envs/notebook/lib/python3.6/site-packages (from oauth2client->yodapy) (0.12.3)\n",
      "Requirement already satisfied: pyasn1-modules>=0.0.5 in /srv/conda/envs/notebook/lib/python3.6/site-packages (from oauth2client->yodapy) (0.2.5)\n",
      "Requirement already satisfied: greenlet>=0.4.14; platform_python_implementation == \"CPython\" in /srv/conda/envs/notebook/lib/python3.6/site-packages (from gevent->yodapy) (0.4.15)\n",
      "Requirement already satisfied: soupsieve>=1.2 in /srv/conda/envs/notebook/lib/python3.6/site-packages (from beautifulsoup4>=4.6->siphon->yodapy) (1.9.1)\n",
      "Requirement already satisfied: setuptools in /srv/conda/envs/notebook/lib/python3.6/site-packages (from protobuf>=3.0.0a3->siphon->yodapy) (41.0.1)\n",
      "Note: you may need to restart the kernel to use updated packages.\n"
     ]
    }
   ],
   "source": [
    "pip install yodapy"
   ]
  },
  {
   "cell_type": "code",
   "execution_count": 5,
   "metadata": {},
   "outputs": [
    {
     "name": "stderr",
     "output_type": "stream",
     "text": [
      "/srv/conda/envs/notebook/lib/python3.6/site-packages/urllib3/connectionpool.py:847: InsecureRequestWarning: Unverified HTTPS request is being made. Adding certificate verification is strongly advised. See: https://urllib3.readthedocs.io/en/latest/advanced-usage.html#ssl-warnings\n",
      "  InsecureRequestWarning)\n",
      "/srv/conda/envs/notebook/lib/python3.6/site-packages/urllib3/connectionpool.py:847: InsecureRequestWarning: Unverified HTTPS request is being made. Adding certificate verification is strongly advised. See: https://urllib3.readthedocs.io/en/latest/advanced-usage.html#ssl-warnings\n",
      "  InsecureRequestWarning)\n"
     ]
    },
    {
     "data": {
      "text/html": [
       "<div>\n",
       "<style scoped>\n",
       "    .dataframe tbody tr th:only-of-type {\n",
       "        vertical-align: middle;\n",
       "    }\n",
       "\n",
       "    .dataframe tbody tr th {\n",
       "        vertical-align: top;\n",
       "    }\n",
       "\n",
       "    .dataframe thead th {\n",
       "        text-align: right;\n",
       "    }\n",
       "</style>\n",
       "<table border=\"1\" class=\"dataframe\">\n",
       "  <thead>\n",
       "    <tr style=\"text-align: right;\">\n",
       "      <th></th>\n",
       "      <th>array_rd</th>\n",
       "      <th>region_name</th>\n",
       "      <th>latitude</th>\n",
       "      <th>longitude</th>\n",
       "    </tr>\n",
       "  </thead>\n",
       "  <tbody>\n",
       "    <tr>\n",
       "      <th>0</th>\n",
       "      <td>CE</td>\n",
       "      <td>Coastal Endurance</td>\n",
       "      <td>44.3700</td>\n",
       "      <td>-124.9500</td>\n",
       "    </tr>\n",
       "    <tr>\n",
       "      <th>1</th>\n",
       "      <td>CP</td>\n",
       "      <td>Coastal Pioneer</td>\n",
       "      <td>40.1000</td>\n",
       "      <td>-70.8800</td>\n",
       "    </tr>\n",
       "    <tr>\n",
       "      <th>2</th>\n",
       "      <td>GA</td>\n",
       "      <td>Global Argentine Basin</td>\n",
       "      <td>-42.5073</td>\n",
       "      <td>-42.8905</td>\n",
       "    </tr>\n",
       "    <tr>\n",
       "      <th>3</th>\n",
       "      <td>GI</td>\n",
       "      <td>Global Irminger Sea</td>\n",
       "      <td>60.4582</td>\n",
       "      <td>-38.4407</td>\n",
       "    </tr>\n",
       "    <tr>\n",
       "      <th>4</th>\n",
       "      <td>GP</td>\n",
       "      <td>Global Station Papa</td>\n",
       "      <td>49.9795</td>\n",
       "      <td>-144.2540</td>\n",
       "    </tr>\n",
       "    <tr>\n",
       "      <th>5</th>\n",
       "      <td>GS</td>\n",
       "      <td>Global Southern Ocean</td>\n",
       "      <td>-54.0814</td>\n",
       "      <td>-89.6652</td>\n",
       "    </tr>\n",
       "    <tr>\n",
       "      <th>6</th>\n",
       "      <td>RS</td>\n",
       "      <td>Cabled Array</td>\n",
       "      <td>44.5540</td>\n",
       "      <td>-125.3520</td>\n",
       "    </tr>\n",
       "  </tbody>\n",
       "</table>\n",
       "</div>"
      ],
      "text/plain": [
       "  array_rd             region_name  latitude  longitude\n",
       "0       CE       Coastal Endurance   44.3700  -124.9500\n",
       "1       CP         Coastal Pioneer   40.1000   -70.8800\n",
       "2       GA  Global Argentine Basin  -42.5073   -42.8905\n",
       "3       GI     Global Irminger Sea   60.4582   -38.4407\n",
       "4       GP     Global Station Papa   49.9795  -144.2540\n",
       "5       GS   Global Southern Ocean  -54.0814   -89.6652\n",
       "6       RS            Cabled Array   44.5540  -125.3520"
      ]
     },
     "execution_count": 5,
     "metadata": {},
     "output_type": "execute_result"
    },
    {
     "name": "stderr",
     "output_type": "stream",
     "text": [
      "/srv/conda/envs/notebook/lib/python3.6/site-packages/urllib3/connectionpool.py:847: InsecureRequestWarning: Unverified HTTPS request is being made. Adding certificate verification is strongly advised. See: https://urllib3.readthedocs.io/en/latest/advanced-usage.html#ssl-warnings\n",
      "  InsecureRequestWarning)\n",
      "/srv/conda/envs/notebook/lib/python3.6/site-packages/urllib3/connectionpool.py:847: InsecureRequestWarning: Unverified HTTPS request is being made. Adding certificate verification is strongly advised. See: https://urllib3.readthedocs.io/en/latest/advanced-usage.html#ssl-warnings\n",
      "  InsecureRequestWarning)\n",
      "/srv/conda/envs/notebook/lib/python3.6/site-packages/pandas/core/indexing.py:635: SettingWithCopyWarning: \n",
      "A value is trying to be set on a copy of a slice from a DataFrame.\n",
      "Try using .loc[row_indexer,col_indexer] = value instead\n",
      "\n",
      "See the caveats in the documentation: http://pandas.pydata.org/pandas-docs/stable/indexing.html#indexing-view-versus-copy\n",
      "  self.obj[item_labels[indexer[info_axis]]] = value\n"
     ]
    }
   ],
   "source": [
    "from yodapy.utils.creds import set_credentials_file\n",
    "set_credentials_file(data_source='ooi', username='OOIAPI-2TZ7Z2WDD3K4M3', token='TEMP-TOKEN-3C52JVFRC74J6H')\n",
    "\n",
    "from yodapy.datasources import OOI\n",
    "ooi = OOI()\n",
    "\n",
    "ooi.regions"
   ]
  },
  {
   "cell_type": "code",
   "execution_count": 9,
   "metadata": {},
   "outputs": [
    {
     "data": {
      "text/html": [
       "<div>\n",
       "<style scoped>\n",
       "    .dataframe tbody tr th:only-of-type {\n",
       "        vertical-align: middle;\n",
       "    }\n",
       "\n",
       "    .dataframe tbody tr th {\n",
       "        vertical-align: top;\n",
       "    }\n",
       "\n",
       "    .dataframe thead th {\n",
       "        text-align: right;\n",
       "    }\n",
       "</style>\n",
       "<table border=\"1\" class=\"dataframe\">\n",
       "  <thead>\n",
       "    <tr style=\"text-align: right;\">\n",
       "      <th></th>\n",
       "      <th>array_name</th>\n",
       "      <th>site_name</th>\n",
       "      <th>infrastructure_name</th>\n",
       "      <th>instrument_name</th>\n",
       "      <th>stream_method</th>\n",
       "      <th>stream_rd</th>\n",
       "    </tr>\n",
       "  </thead>\n",
       "  <tbody>\n",
       "    <tr>\n",
       "      <th>0</th>\n",
       "      <td>Cabled Axial Seamount (Cabled Array)</td>\n",
       "      <td>Axial Base Seafloor</td>\n",
       "      <td>Low-Power JBox (LJ03A)</td>\n",
       "      <td>Velocity Profiler (150kHz)</td>\n",
       "      <td>streamed</td>\n",
       "      <td>adcp_pd0_beam_parsed</td>\n",
       "    </tr>\n",
       "    <tr>\n",
       "      <th>1</th>\n",
       "      <td>Cabled Axial Seamount (Cabled Array)</td>\n",
       "      <td>Axial Base Seafloor</td>\n",
       "      <td>Low-Power JBox (LJ03A)</td>\n",
       "      <td>Velocity Profiler (150kHz)</td>\n",
       "      <td>streamed</td>\n",
       "      <td>adcp_velocity_beam</td>\n",
       "    </tr>\n",
       "    <tr>\n",
       "      <th>2</th>\n",
       "      <td>Cabled Axial Seamount (Cabled Array)</td>\n",
       "      <td>Axial Base Shallow Profiler Mooring</td>\n",
       "      <td>200m Platform (PC03A)</td>\n",
       "      <td>5-Beam Velocity Profiler (600 kHz)</td>\n",
       "      <td>streamed</td>\n",
       "      <td>vadcp_5thbeam_pd0_beam_parsed</td>\n",
       "    </tr>\n",
       "    <tr>\n",
       "      <th>3</th>\n",
       "      <td>Cabled Axial Seamount (Cabled Array)</td>\n",
       "      <td>Axial Base Shallow Profiler Mooring</td>\n",
       "      <td>200m Platform (PC03A)</td>\n",
       "      <td>5-Beam Velocity Profiler (600 kHz)</td>\n",
       "      <td>streamed</td>\n",
       "      <td>vadcp_pd0_beam_parsed</td>\n",
       "    </tr>\n",
       "    <tr>\n",
       "      <th>4</th>\n",
       "      <td>Cabled Axial Seamount (Cabled Array)</td>\n",
       "      <td>Axial Base Shallow Profiler Mooring</td>\n",
       "      <td>200m Platform (PC03A)</td>\n",
       "      <td>5-Beam Velocity Profiler (600 kHz)</td>\n",
       "      <td>streamed</td>\n",
       "      <td>vadcp_velocity_beam_5</td>\n",
       "    </tr>\n",
       "    <tr>\n",
       "      <th>5</th>\n",
       "      <td>Cabled Axial Seamount (Cabled Array)</td>\n",
       "      <td>Axial Base Shallow Profiler Mooring</td>\n",
       "      <td>200m Platform (PC03A)</td>\n",
       "      <td>5-Beam Velocity Profiler (600 kHz)</td>\n",
       "      <td>streamed</td>\n",
       "      <td>vadcp_velocity_beam</td>\n",
       "    </tr>\n",
       "    <tr>\n",
       "      <th>6</th>\n",
       "      <td>Cabled Axial Seamount (Cabled Array)</td>\n",
       "      <td>Axial Base Shallow Profiler Mooring</td>\n",
       "      <td>200m Platform (PC03A)</td>\n",
       "      <td>Velocity Profiler (150kHz)</td>\n",
       "      <td>streamed</td>\n",
       "      <td>adcp_pd0_beam_parsed</td>\n",
       "    </tr>\n",
       "    <tr>\n",
       "      <th>7</th>\n",
       "      <td>Cabled Axial Seamount (Cabled Array)</td>\n",
       "      <td>Axial Base Shallow Profiler Mooring</td>\n",
       "      <td>200m Platform (PC03A)</td>\n",
       "      <td>Velocity Profiler (150kHz)</td>\n",
       "      <td>streamed</td>\n",
       "      <td>adcp_velocity_beam</td>\n",
       "    </tr>\n",
       "    <tr>\n",
       "      <th>8</th>\n",
       "      <td>Cabled Continental Margin (Cabled Array)</td>\n",
       "      <td>Oregon Slope Base Seafloor</td>\n",
       "      <td>Low-Power JBox (LJ01A)</td>\n",
       "      <td>Velocity Profiler (150kHz)</td>\n",
       "      <td>streamed</td>\n",
       "      <td>adcp_pd0_beam_parsed</td>\n",
       "    </tr>\n",
       "    <tr>\n",
       "      <th>9</th>\n",
       "      <td>Cabled Continental Margin (Cabled Array)</td>\n",
       "      <td>Oregon Slope Base Seafloor</td>\n",
       "      <td>Low-Power JBox (LJ01A)</td>\n",
       "      <td>Velocity Profiler (150kHz)</td>\n",
       "      <td>streamed</td>\n",
       "      <td>adcp_velocity_beam</td>\n",
       "    </tr>\n",
       "    <tr>\n",
       "      <th>10</th>\n",
       "      <td>Cabled Continental Margin (Cabled Array)</td>\n",
       "      <td>Oregon Slope Base Shallow Profiler Mooring</td>\n",
       "      <td>200m Platform (PC01A)</td>\n",
       "      <td>5-Beam Velocity Profiler (600 kHz)</td>\n",
       "      <td>streamed</td>\n",
       "      <td>vadcp_5thbeam_pd0_beam_parsed</td>\n",
       "    </tr>\n",
       "    <tr>\n",
       "      <th>11</th>\n",
       "      <td>Cabled Continental Margin (Cabled Array)</td>\n",
       "      <td>Oregon Slope Base Shallow Profiler Mooring</td>\n",
       "      <td>200m Platform (PC01A)</td>\n",
       "      <td>5-Beam Velocity Profiler (600 kHz)</td>\n",
       "      <td>streamed</td>\n",
       "      <td>vadcp_pd0_beam_parsed</td>\n",
       "    </tr>\n",
       "    <tr>\n",
       "      <th>12</th>\n",
       "      <td>Cabled Continental Margin (Cabled Array)</td>\n",
       "      <td>Oregon Slope Base Shallow Profiler Mooring</td>\n",
       "      <td>200m Platform (PC01A)</td>\n",
       "      <td>5-Beam Velocity Profiler (600 kHz)</td>\n",
       "      <td>streamed</td>\n",
       "      <td>vadcp_velocity_beam_5</td>\n",
       "    </tr>\n",
       "    <tr>\n",
       "      <th>13</th>\n",
       "      <td>Cabled Continental Margin (Cabled Array)</td>\n",
       "      <td>Oregon Slope Base Shallow Profiler Mooring</td>\n",
       "      <td>200m Platform (PC01A)</td>\n",
       "      <td>5-Beam Velocity Profiler (600 kHz)</td>\n",
       "      <td>streamed</td>\n",
       "      <td>vadcp_velocity_beam</td>\n",
       "    </tr>\n",
       "    <tr>\n",
       "      <th>14</th>\n",
       "      <td>Cabled Continental Margin (Cabled Array)</td>\n",
       "      <td>Oregon Slope Base Shallow Profiler Mooring</td>\n",
       "      <td>200m Platform (PC01A)</td>\n",
       "      <td>Velocity Profiler (150kHz)</td>\n",
       "      <td>streamed</td>\n",
       "      <td>adcp_pd0_beam_parsed</td>\n",
       "    </tr>\n",
       "    <tr>\n",
       "      <th>15</th>\n",
       "      <td>Cabled Continental Margin (Cabled Array)</td>\n",
       "      <td>Oregon Slope Base Shallow Profiler Mooring</td>\n",
       "      <td>200m Platform (PC01A)</td>\n",
       "      <td>Velocity Profiler (150kHz)</td>\n",
       "      <td>streamed</td>\n",
       "      <td>adcp_velocity_beam</td>\n",
       "    </tr>\n",
       "    <tr>\n",
       "      <th>16</th>\n",
       "      <td>Cabled Continental Margin (Cabled Array)</td>\n",
       "      <td>Southern Hydrate Summit 2 Seafloor</td>\n",
       "      <td>Medium-Power JBox (MJ01B)</td>\n",
       "      <td>Velocity Profiler (75 kHz)</td>\n",
       "      <td>streamed</td>\n",
       "      <td>adcp_pd0_beam_parsed</td>\n",
       "    </tr>\n",
       "    <tr>\n",
       "      <th>17</th>\n",
       "      <td>Cabled Continental Margin (Cabled Array)</td>\n",
       "      <td>Southern Hydrate Summit 2 Seafloor</td>\n",
       "      <td>Medium-Power JBox (MJ01B)</td>\n",
       "      <td>Velocity Profiler (75 kHz)</td>\n",
       "      <td>streamed</td>\n",
       "      <td>adcp_velocity_beam</td>\n",
       "    </tr>\n",
       "  </tbody>\n",
       "</table>\n",
       "</div>"
      ],
      "text/plain": [
       "                                  array_name  \\\n",
       "0       Cabled Axial Seamount (Cabled Array)   \n",
       "1       Cabled Axial Seamount (Cabled Array)   \n",
       "2       Cabled Axial Seamount (Cabled Array)   \n",
       "3       Cabled Axial Seamount (Cabled Array)   \n",
       "4       Cabled Axial Seamount (Cabled Array)   \n",
       "5       Cabled Axial Seamount (Cabled Array)   \n",
       "6       Cabled Axial Seamount (Cabled Array)   \n",
       "7       Cabled Axial Seamount (Cabled Array)   \n",
       "8   Cabled Continental Margin (Cabled Array)   \n",
       "9   Cabled Continental Margin (Cabled Array)   \n",
       "10  Cabled Continental Margin (Cabled Array)   \n",
       "11  Cabled Continental Margin (Cabled Array)   \n",
       "12  Cabled Continental Margin (Cabled Array)   \n",
       "13  Cabled Continental Margin (Cabled Array)   \n",
       "14  Cabled Continental Margin (Cabled Array)   \n",
       "15  Cabled Continental Margin (Cabled Array)   \n",
       "16  Cabled Continental Margin (Cabled Array)   \n",
       "17  Cabled Continental Margin (Cabled Array)   \n",
       "\n",
       "                                     site_name        infrastructure_name  \\\n",
       "0                          Axial Base Seafloor     Low-Power JBox (LJ03A)   \n",
       "1                          Axial Base Seafloor     Low-Power JBox (LJ03A)   \n",
       "2          Axial Base Shallow Profiler Mooring      200m Platform (PC03A)   \n",
       "3          Axial Base Shallow Profiler Mooring      200m Platform (PC03A)   \n",
       "4          Axial Base Shallow Profiler Mooring      200m Platform (PC03A)   \n",
       "5          Axial Base Shallow Profiler Mooring      200m Platform (PC03A)   \n",
       "6          Axial Base Shallow Profiler Mooring      200m Platform (PC03A)   \n",
       "7          Axial Base Shallow Profiler Mooring      200m Platform (PC03A)   \n",
       "8                   Oregon Slope Base Seafloor     Low-Power JBox (LJ01A)   \n",
       "9                   Oregon Slope Base Seafloor     Low-Power JBox (LJ01A)   \n",
       "10  Oregon Slope Base Shallow Profiler Mooring      200m Platform (PC01A)   \n",
       "11  Oregon Slope Base Shallow Profiler Mooring      200m Platform (PC01A)   \n",
       "12  Oregon Slope Base Shallow Profiler Mooring      200m Platform (PC01A)   \n",
       "13  Oregon Slope Base Shallow Profiler Mooring      200m Platform (PC01A)   \n",
       "14  Oregon Slope Base Shallow Profiler Mooring      200m Platform (PC01A)   \n",
       "15  Oregon Slope Base Shallow Profiler Mooring      200m Platform (PC01A)   \n",
       "16          Southern Hydrate Summit 2 Seafloor  Medium-Power JBox (MJ01B)   \n",
       "17          Southern Hydrate Summit 2 Seafloor  Medium-Power JBox (MJ01B)   \n",
       "\n",
       "                       instrument_name stream_method  \\\n",
       "0           Velocity Profiler (150kHz)      streamed   \n",
       "1           Velocity Profiler (150kHz)      streamed   \n",
       "2   5-Beam Velocity Profiler (600 kHz)      streamed   \n",
       "3   5-Beam Velocity Profiler (600 kHz)      streamed   \n",
       "4   5-Beam Velocity Profiler (600 kHz)      streamed   \n",
       "5   5-Beam Velocity Profiler (600 kHz)      streamed   \n",
       "6           Velocity Profiler (150kHz)      streamed   \n",
       "7           Velocity Profiler (150kHz)      streamed   \n",
       "8           Velocity Profiler (150kHz)      streamed   \n",
       "9           Velocity Profiler (150kHz)      streamed   \n",
       "10  5-Beam Velocity Profiler (600 kHz)      streamed   \n",
       "11  5-Beam Velocity Profiler (600 kHz)      streamed   \n",
       "12  5-Beam Velocity Profiler (600 kHz)      streamed   \n",
       "13  5-Beam Velocity Profiler (600 kHz)      streamed   \n",
       "14          Velocity Profiler (150kHz)      streamed   \n",
       "15          Velocity Profiler (150kHz)      streamed   \n",
       "16          Velocity Profiler (75 kHz)      streamed   \n",
       "17          Velocity Profiler (75 kHz)      streamed   \n",
       "\n",
       "                        stream_rd  \n",
       "0            adcp_pd0_beam_parsed  \n",
       "1              adcp_velocity_beam  \n",
       "2   vadcp_5thbeam_pd0_beam_parsed  \n",
       "3           vadcp_pd0_beam_parsed  \n",
       "4           vadcp_velocity_beam_5  \n",
       "5             vadcp_velocity_beam  \n",
       "6            adcp_pd0_beam_parsed  \n",
       "7              adcp_velocity_beam  \n",
       "8            adcp_pd0_beam_parsed  \n",
       "9              adcp_velocity_beam  \n",
       "10  vadcp_5thbeam_pd0_beam_parsed  \n",
       "11          vadcp_pd0_beam_parsed  \n",
       "12          vadcp_velocity_beam_5  \n",
       "13            vadcp_velocity_beam  \n",
       "14           adcp_pd0_beam_parsed  \n",
       "15             adcp_velocity_beam  \n",
       "16           adcp_pd0_beam_parsed  \n",
       "17             adcp_velocity_beam  "
      ]
     },
     "execution_count": 9,
     "metadata": {},
     "output_type": "execute_result"
    }
   ],
   "source": [
    "# Find out how many velocity profiler on the cabled array\n",
    "ooi.search(region='cabled',instrument='Velocity Profiler')\n",
    "ooi.instruments"
   ]
  },
  {
   "cell_type": "code",
   "execution_count": 29,
   "metadata": {},
   "outputs": [
    {
     "name": "stdout",
     "output_type": "stream",
     "text": [
      "Help on method search in module yodapy.datasources.ooi.OOI:\n",
      "\n",
      "search(region=None, site=None, node=None, instrument=None, stream_type='Science', stream_method=None, stream=None, parameter=None) method of yodapy.datasources.ooi.OOI.OOI instance\n",
      "    Perform a search, and filters data catalog\n",
      "    \n",
      "    Args:\n",
      "        region (str): Region name. If multiple use comma separated.\n",
      "        site (str): Site name. If multiple use comma separated.\n",
      "        node (str): Node name. If multiple use comma separated.\n",
      "        instrument (str): Instrument name. If multiple use comma separated.\n",
      "        stream_type (str): Stream type. Either 'Science' or 'Engineering'. If multiple use comma separated.\n",
      "        stream_method (str): Stream method. If multiple use comma separated.\n",
      "        stream (str): Stream name. If multiple use comma separated.\n",
      "        parameter (str): Parameter name. If multiple use comma separated.\n",
      "    \n",
      "    Returns:\n",
      "        self: Modified OOI Object\n",
      "\n"
     ]
    }
   ],
   "source": [
    "help(ooi.search)"
   ]
  },
  {
   "cell_type": "code",
   "execution_count": 36,
   "metadata": {},
   "outputs": [
    {
     "data": {
      "text/html": [
       "<div>\n",
       "<style scoped>\n",
       "    .dataframe tbody tr th:only-of-type {\n",
       "        vertical-align: middle;\n",
       "    }\n",
       "\n",
       "    .dataframe tbody tr th {\n",
       "        vertical-align: top;\n",
       "    }\n",
       "\n",
       "    .dataframe thead th {\n",
       "        text-align: right;\n",
       "    }\n",
       "</style>\n",
       "<table border=\"1\" class=\"dataframe\">\n",
       "  <thead>\n",
       "    <tr style=\"text-align: right;\">\n",
       "      <th></th>\n",
       "      <th>array_name</th>\n",
       "      <th>site_name</th>\n",
       "      <th>infrastructure_name</th>\n",
       "      <th>instrument_name</th>\n",
       "      <th>stream_method</th>\n",
       "      <th>stream_rd</th>\n",
       "    </tr>\n",
       "  </thead>\n",
       "  <tbody>\n",
       "    <tr>\n",
       "      <th>0</th>\n",
       "      <td>Cabled Continental Margin (Cabled Array)</td>\n",
       "      <td>Southern Hydrate Summit 2 Seafloor</td>\n",
       "      <td>Medium-Power JBox (MJ01B)</td>\n",
       "      <td>Velocity Profiler (75 kHz)</td>\n",
       "      <td>streamed</td>\n",
       "      <td>adcp_velocity_beam</td>\n",
       "    </tr>\n",
       "  </tbody>\n",
       "</table>\n",
       "</div>"
      ],
      "text/plain": [
       "                                 array_name  \\\n",
       "0  Cabled Continental Margin (Cabled Array)   \n",
       "\n",
       "                            site_name        infrastructure_name  \\\n",
       "0  Southern Hydrate Summit 2 Seafloor  Medium-Power JBox (MJ01B)   \n",
       "\n",
       "              instrument_name stream_method           stream_rd  \n",
       "0  Velocity Profiler (75 kHz)      streamed  adcp_velocity_beam  "
      ]
     },
     "execution_count": 36,
     "metadata": {},
     "output_type": "execute_result"
    }
   ],
   "source": [
    "# Narrow down to a single instrument\n",
    "ooi.search(region='cabled',site='Southern Hydrate Summit 2 Seafloor', instrument='Velocity Profiler',stream='adcp_velocity_beam')\n",
    "ooi.instruments"
   ]
  },
  {
   "cell_type": "code",
   "execution_count": 37,
   "metadata": {},
   "outputs": [
    {
     "name": "stderr",
     "output_type": "stream",
     "text": [
      "/srv/conda/envs/notebook/lib/python3.6/site-packages/urllib3/connectionpool.py:847: InsecureRequestWarning: Unverified HTTPS request is being made. Adding certificate verification is strongly advised. See: https://urllib3.readthedocs.io/en/latest/advanced-usage.html#ssl-warnings\n",
      "  InsecureRequestWarning)\n"
     ]
    },
    {
     "data": {
      "text/html": [
       "<div>\n",
       "<style scoped>\n",
       "    .dataframe tbody tr th:only-of-type {\n",
       "        vertical-align: middle;\n",
       "    }\n",
       "\n",
       "    .dataframe tbody tr th {\n",
       "        vertical-align: top;\n",
       "    }\n",
       "\n",
       "    .dataframe thead th {\n",
       "        text-align: right;\n",
       "    }\n",
       "</style>\n",
       "<table border=\"1\" class=\"dataframe\">\n",
       "  <thead>\n",
       "    <tr style=\"text-align: right;\">\n",
       "      <th></th>\n",
       "      <th>RS01SUM2-MJ01B-12-ADCPSK101-streamed-adcp_velocity_beam</th>\n",
       "    </tr>\n",
       "  </thead>\n",
       "  <tbody>\n",
       "    <tr>\n",
       "      <th>0</th>\n",
       "      <td>Cabled Continental Margin (Cabled Array)</td>\n",
       "    </tr>\n",
       "    <tr>\n",
       "      <th>1</th>\n",
       "      <td>Southern Hydrate Summit 2 Seafloor</td>\n",
       "    </tr>\n",
       "    <tr>\n",
       "      <th>2</th>\n",
       "      <td>Medium-Power JBox (MJ01B)</td>\n",
       "    </tr>\n",
       "    <tr>\n",
       "      <th>3</th>\n",
       "      <td>Velocity Profiler (75 kHz)</td>\n",
       "    </tr>\n",
       "    <tr>\n",
       "      <th>4</th>\n",
       "      <td>streamed</td>\n",
       "    </tr>\n",
       "    <tr>\n",
       "      <th>5</th>\n",
       "      <td>adcp_velocity_beam</td>\n",
       "    </tr>\n",
       "  </tbody>\n",
       "</table>\n",
       "</div>"
      ],
      "text/plain": [
       "  RS01SUM2-MJ01B-12-ADCPSK101-streamed-adcp_velocity_beam\n",
       "0           Cabled Continental Margin (Cabled Array)     \n",
       "1                 Southern Hydrate Summit 2 Seafloor     \n",
       "2                          Medium-Power JBox (MJ01B)     \n",
       "3                         Velocity Profiler (75 kHz)     \n",
       "4                                           streamed     \n",
       "5                                 adcp_velocity_beam     "
      ]
     },
     "execution_count": 37,
     "metadata": {},
     "output_type": "execute_result"
    },
    {
     "data": {
      "image/png": "[encoded data removed]",
      "text/plain": [
       "<Figure size 1440x720 with 2 Axes>"
      ]
     },
     "metadata": {},
     "output_type": "display_data"
    }
   ],
   "source": [
    "ooi.data_availability()"
   ]
  },
  {
   "cell_type": "code",
   "execution_count": 38,
   "metadata": {},
   "outputs": [
    {
     "name": "stderr",
     "output_type": "stream",
     "text": [
      "/srv/conda/envs/notebook/lib/python3.6/site-packages/urllib3/connectionpool.py:847: InsecureRequestWarning: Unverified HTTPS request is being made. Adding certificate verification is strongly advised. See: https://urllib3.readthedocs.io/en/latest/advanced-usage.html#ssl-warnings\n",
      "  InsecureRequestWarning)\n"
     ]
    },
    {
     "data": {
      "text/plain": [
       "<Data Source: OOI (1 Instrument Stream)>"
      ]
     },
     "execution_count": 38,
     "metadata": {},
     "output_type": "execute_result"
    }
   ],
   "source": [
    "begin_date = '2017-01-01'\n",
    "end_date = '2017-01-31'\n",
    "ooi.request_data(begin_date=begin_date, end_date=end_date)"
   ]
  },
  {
   "cell_type": "code",
   "execution_count": 39,
   "metadata": {},
   "outputs": [
    {
     "name": "stderr",
     "output_type": "stream",
     "text": [
      "(MainThread) Your data (https://opendap.oceanobservatories.org/async_results/wangbinb@missouri.edu/20190531T021654-RS01SUM2-MJ01B-12-ADCPSK101-streamed-adcp_velocity_beam) is still compiling... Please wait.\n"
     ]
    },
    {
     "name": "stdout",
     "output_type": "stream",
     "text": [
      "Your data (https://opendap.oceanobservatories.org/async_results/wangbinb@missouri.edu/20190531T021654-RS01SUM2-MJ01B-12-ADCPSK101-streamed-adcp_velocity_beam) is still compiling... Please wait.\n"
     ]
    }
   ],
   "source": [
    "ooi.check_status()"
   ]
  },
  {
   "cell_type": "code",
   "execution_count": 41,
   "metadata": {},
   "outputs": [
    {
     "name": "stderr",
     "output_type": "stream",
     "text": [
      "(MainThread) Request (https://opendap.oceanobservatories.org/async_results/wangbinb@missouri.edu/20190531T021654-RS01SUM2-MJ01B-12-ADCPSK101-streamed-adcp_velocity_beam) completed.\n",
      "(MainThread) Acquiring data from opendap urls ...\n"
     ]
    },
    {
     "name": "stdout",
     "output_type": "stream",
     "text": [
      "Request (https://opendap.oceanobservatories.org/async_results/wangbinb@missouri.edu/20190531T021654-RS01SUM2-MJ01B-12-ADCPSK101-streamed-adcp_velocity_beam) completed.\n"
     ]
    }
   ],
   "source": [
    "ds_list = ooi.to_xarray()"
   ]
  },
  {
   "cell_type": "code",
   "execution_count": 42,
   "metadata": {},
   "outputs": [
    {
     "data": {
      "text/plain": [
       "[<xarray.Dataset>\n",
       " Dimensions:                         (bin: 112, obs: 298587)\n",
       " Coordinates:\n",
       "   * obs                             (obs) int64 0 1 2 3 ... 102138 102139 102140\n",
       "     time                            (obs) datetime64[ns] dask.array<shape=(298587,), chunksize=(60260,)>\n",
       "     pressure                        (obs) float64 dask.array<shape=(298587,), chunksize=(60260,)>\n",
       "     lat                             (obs) float64 dask.array<shape=(298587,), chunksize=(60260,)>\n",
       "     lon                             (obs) float64 dask.array<shape=(298587,), chunksize=(60260,)>\n",
       " Dimensions without coordinates: bin\n",
       " Data variables:\n",
       "     deployment                      (obs) int32 dask.array<shape=(298587,), chunksize=(60260,)>\n",
       "     id                              (obs) |S64 dask.array<shape=(298587,), chunksize=(60260,)>\n",
       "     bin_1_distance                  (obs) float32 dask.array<shape=(298587,), chunksize=(60260,)>\n",
       "     cell_length                     (obs) float32 dask.array<shape=(298587,), chunksize=(60260,)>\n",
       "     correlation_magnitude_beam1     (obs, bin) float32 dask.array<shape=(298587, 112), chunksize=(60260, 112)>\n",
       "     correlation_magnitude_beam2     (obs, bin) float32 dask.array<shape=(298587, 112), chunksize=(60260, 112)>\n",
       "     correlation_magnitude_beam3     (obs, bin) float32 dask.array<shape=(298587, 112), chunksize=(60260, 112)>\n",
       "     correlation_magnitude_beam4     (obs, bin) float32 dask.array<shape=(298587, 112), chunksize=(60260, 112)>\n",
       "     driver_timestamp                (obs) datetime64[ns] dask.array<shape=(298587,), chunksize=(60260,)>\n",
       "     echo_intensity_beam1            (obs, bin) float32 dask.array<shape=(298587, 112), chunksize=(60260, 112)>\n",
       "     echo_intensity_beam2            (obs, bin) float32 dask.array<shape=(298587, 112), chunksize=(60260, 112)>\n",
       "     echo_intensity_beam3            (obs, bin) float32 dask.array<shape=(298587, 112), chunksize=(60260, 112)>\n",
       "     echo_intensity_beam4            (obs, bin) float32 dask.array<shape=(298587, 112), chunksize=(60260, 112)>\n",
       "     ensemble_number                 (obs) float32 dask.array<shape=(298587,), chunksize=(60260,)>\n",
       "     heading                         (obs) float32 dask.array<shape=(298587,), chunksize=(60260,)>\n",
       "     ingestion_timestamp             (obs) datetime64[ns] dask.array<shape=(298587,), chunksize=(60260,)>\n",
       "     internal_timestamp              (obs) datetime64[ns] dask.array<shape=(298587,), chunksize=(60260,)>\n",
       "     num_cells                       (obs) float32 dask.array<shape=(298587,), chunksize=(60260,)>\n",
       "     percent_good_beam1              (obs, bin) float32 dask.array<shape=(298587, 112), chunksize=(60260, 112)>\n",
       "     percent_good_beam2              (obs, bin) float32 dask.array<shape=(298587, 112), chunksize=(60260, 112)>\n",
       "     percent_good_beam3              (obs, bin) float32 dask.array<shape=(298587, 112), chunksize=(60260, 112)>\n",
       "     percent_good_beam4              (obs, bin) float32 dask.array<shape=(298587, 112), chunksize=(60260, 112)>\n",
       "     pitch                           (obs) float32 dask.array<shape=(298587,), chunksize=(60260,)>\n",
       "     port_timestamp                  (obs) datetime64[ns] dask.array<shape=(298587,), chunksize=(60260,)>\n",
       "     preferred_timestamp             (obs) object dask.array<shape=(298587,), chunksize=(60260,)>\n",
       "     roll                            (obs) float32 dask.array<shape=(298587,), chunksize=(60260,)>\n",
       "     salinity                        (obs) float32 dask.array<shape=(298587,), chunksize=(60260,)>\n",
       "     sysconfig_vertical_orientation  (obs) float32 dask.array<shape=(298587,), chunksize=(60260,)>\n",
       "     temperature                     (obs) float32 dask.array<shape=(298587,), chunksize=(60260,)>\n",
       "     transducer_depth                (obs) float32 dask.array<shape=(298587,), chunksize=(60260,)>\n",
       "     velocity_beam1                  (obs, bin) float32 dask.array<shape=(298587, 112), chunksize=(60260, 112)>\n",
       "     velocity_beam2                  (obs, bin) float32 dask.array<shape=(298587, 112), chunksize=(60260, 112)>\n",
       "     velocity_beam3                  (obs, bin) float32 dask.array<shape=(298587, 112), chunksize=(60260, 112)>\n",
       "     velocity_beam4                  (obs, bin) float32 dask.array<shape=(298587, 112), chunksize=(60260, 112)>\n",
       "     corrected_echo_intensity_beam1  (obs, bin) float64 dask.array<shape=(298587, 112), chunksize=(60260, 112)>\n",
       "     corrected_echo_intensity_beam2  (obs, bin) float64 dask.array<shape=(298587, 112), chunksize=(60260, 112)>\n",
       "     corrected_echo_intensity_beam3  (obs, bin) float64 dask.array<shape=(298587, 112), chunksize=(60260, 112)>\n",
       "     corrected_echo_intensity_beam4  (obs, bin) float64 dask.array<shape=(298587, 112), chunksize=(60260, 112)>\n",
       "     eastward_seawater_velocity      (obs, bin) float64 dask.array<shape=(298587, 112), chunksize=(60260, 112)>\n",
       "     northward_seawater_velocity     (obs, bin) float64 dask.array<shape=(298587, 112), chunksize=(60260, 112)>\n",
       "     upward_seawater_velocity        (obs, bin) float64 dask.array<shape=(298587, 112), chunksize=(60260, 112)>\n",
       "     error_seawater_velocity         (obs, bin) float64 dask.array<shape=(298587, 112), chunksize=(60260, 112)>\n",
       "     bin_depths                      (obs, bin) float64 dask.array<shape=(298587, 112), chunksize=(60260, 112)>\n",
       " Attributes:\n",
       "     _NCProperties:                   version=1|netcdflibversion=4.4.1.1|hdf5l...\n",
       "     node:                            MJ01B\n",
       "     comment:                         \n",
       "     publisher_email:                 \n",
       "     sourceUrl:                       http://oceanobservatories.org/\n",
       "     collection_method:               streamed\n",
       "     stream:                          adcp_velocity_beam\n",
       "     featureType:                     point\n",
       "     creator_email:                   \n",
       "     publisher_name:                  Ocean Observatories Initiative\n",
       "     date_modified:                   2019-05-31T02:20:46.659703\n",
       "     keywords:                        \n",
       "     cdm_data_type:                   Point\n",
       "     references:                      More information can be found at http://...\n",
       "     Metadata_Conventions:            Unidata Dataset Discovery v1.0\n",
       "     date_created:                    2019-05-31T02:20:46.659700\n",
       "     id:                              RS01SUM2-MJ01B-12-ADCPSK101-streamed-adc...\n",
       "     requestUUID:                     127c6f4f-741e-4564-94eb-08d8f70cdcee\n",
       "     contributor_role:                \n",
       "     summary:                         Dataset Generated by Stream Engine from ...\n",
       "     keywords_vocabulary:             \n",
       "     institution:                     Ocean Observatories Initiative\n",
       "     naming_authority:                org.oceanobservatories\n",
       "     feature_Type:                    point\n",
       "     infoUrl:                         http://oceanobservatories.org/\n",
       "     license:                         \n",
       "     contributor_name:                \n",
       "     uuid:                            127c6f4f-741e-4564-94eb-08d8f70cdcee\n",
       "     creator_name:                    Ocean Observatories Initiative\n",
       "     title:                           Data produced by Stream Engine version 1...\n",
       "     sensor:                          12-ADCPSK101\n",
       "     standard_name_vocabulary:        NetCDF Climate and Forecast (CF) Metadat...\n",
       "     acknowledgement:                 \n",
       "     Conventions:                     CF-1.6\n",
       "     project:                         Ocean Observatories Initiative\n",
       "     source:                          RS01SUM2-MJ01B-12-ADCPSK101-streamed-adc...\n",
       "     publisher_url:                   http://oceanobservatories.org/\n",
       "     creator_url:                     http://oceanobservatories.org/\n",
       "     nodc_template_version:           NODC_NetCDF_TimeSeries_Orthogonal_Templa...\n",
       "     subsite:                         RS01SUM2\n",
       "     processing_level:                L2\n",
       "     history:                         2019-05-31T02:20:46.659660 generated fro...\n",
       "     time_coverage_start:             2017-01-08T00:00:02.397924\n",
       "     time_coverage_end:               2017-01-09T18:30:50.582647\n",
       "     time_coverage_resolution:        P2.54S\n",
       "     geospatial_lat_min:              44.56984\n",
       "     geospatial_lat_max:              44.56984\n",
       "     geospatial_lat_units:            degrees_north\n",
       "     geospatial_lat_resolution:       0.1\n",
       "     geospatial_lon_min:              -125.14682\n",
       "     geospatial_lon_max:              -125.14682\n",
       "     geospatial_lon_units:            degrees_east\n",
       "     geospatial_lon_resolution:       0.1\n",
       "     geospatial_vertical_units:       meters\n",
       "     geospatial_vertical_resolution:  0.1\n",
       "     geospatial_vertical_positive:    down\n",
       "     DODS.strlen:                     14\n",
       "     DODS.dimName:                    string14\n",
       "     DODS_EXTRA.Unlimited_Dimension:  obs]"
      ]
     },
     "execution_count": 42,
     "metadata": {},
     "output_type": "execute_result"
    }
   ],
   "source": [
    "ds_list"
   ]
  },
  {
   "cell_type": "code",
   "execution_count": 43,
   "metadata": {},
   "outputs": [],
   "source": [
    "d=ds_list[0]"
   ]
  },
  {
   "cell_type": "code",
   "execution_count": 49,
   "metadata": {},
   "outputs": [],
   "source": [
    "time = d.time\n",
    "temp = d.temperature\n",
    "veast = d.eastward_seawater_velocity\n",
    "vnorth = d.northward_seawater_velocity\n",
    "vup = d.upward_seawater_velocity\n",
    "vel_bin = d.bin_depths"
   ]
  },
  {
   "cell_type": "code",
   "execution_count": 50,
   "metadata": {},
   "outputs": [
    {
     "data": {
      "text/plain": [
       "[<matplotlib.lines.Line2D at 0x7f987d9d29e8>]"
      ]
     },
     "execution_count": 50,
     "metadata": {},
     "output_type": "execute_result"
    },
    {
     "data": {
      "image/png": "[encoded data removed]",
      "text/plain": [
       "<Figure size 432x288 with 1 Axes>"
      ]
     },
     "metadata": {},
     "output_type": "display_data"
    }
   ],
   "source": [
    "import matplotlib.pyplot as plt\n",
    "plt.plot(time,temp)"
   ]
  },
  {
   "cell_type": "code",
   "execution_count": 51,
   "metadata": {},
   "outputs": [
    {
     "ename": "NameError",
     "evalue": "name 'size' is not defined",
     "output_type": "error",
     "traceback": [
      "\u001b[0;31m---------------------------------------------------------------------------\u001b[0m",
      "\u001b[0;31mNameError\u001b[0m                                 Traceback (most recent call last)",
      "\u001b[0;32m<ipython-input-51-aed4e83f4f85>\u001b[0m in \u001b[0;36m<module>\u001b[0;34m\u001b[0m\n\u001b[0;32m----> 1\u001b[0;31m \u001b[0msize\u001b[0m\u001b[0;34m(\u001b[0m\u001b[0mvel_bin\u001b[0m\u001b[0;34m)\u001b[0m\u001b[0;34m\u001b[0m\u001b[0;34m\u001b[0m\u001b[0m\n\u001b[0m",
      "\u001b[0;31mNameError\u001b[0m: name 'size' is not defined"
     ]
    }
   ],
   "source": [
    "plt.pcolor(time,)"
   ]
  },
  {
   "cell_type": "code",
   "execution_count": null,
   "metadata": {},
   "outputs": [],
   "source": []
  }
 ],
 "metadata": {
  "kernelspec": {
   "display_name": "Python 3",
   "language": "python",
   "name": "python3"
  },
  "language_info": {
   "codemirror_mode": {
    "name": "ipython",
    "version": 3
   },
   "file_extension": ".py",
   "mimetype": "text/x-python",
   "name": "python",
   "nbconvert_exporter": "python",
   "pygments_lexer": "ipython3",
   "version": "3.6.7"
  }
 },
 "nbformat": 4,
 "nbformat_minor": 2
}
